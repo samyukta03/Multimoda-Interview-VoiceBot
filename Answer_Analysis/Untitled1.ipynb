{
 "cells": [
  {
   "cell_type": "code",
   "execution_count": null,
   "id": "fdd38fc0",
   "metadata": {},
   "outputs": [
    {
     "name": "stdout",
     "output_type": "stream",
     "text": [
      " * Serving Flask app \"__main__\" (lazy loading)\n",
      " * Environment: production\n",
      "\u001b[31m   WARNING: This is a development server. Do not use it in a production deployment.\u001b[0m\n",
      "\u001b[2m   Use a production WSGI server instead.\u001b[0m\n",
      " * Debug mode: off\n"
     ]
    },
    {
     "name": "stderr",
     "output_type": "stream",
     "text": [
      " * Running on http://127.0.0.1:5000/ (Press CTRL+C to quit)\n",
      "127.0.0.1 - - [21/Mar/2023 22:06:53] \"GET / HTTP/1.1\" 200 -\n",
      "127.0.0.1 - - [21/Mar/2023 22:06:54] \"GET /favicon.ico HTTP/1.1\" 404 -\n"
     ]
    }
   ],
   "source": [
    "# -*- coding: utf-8 -*-\n",
    "from flask import Flask, render_template, request\n",
    "import gtts  \n",
    "from playsound import playsound  \n",
    "import numpy as np\n",
    "import os\n",
    "import matplotlib.pyplot as plt\n",
    "import pandas as pd\n",
    "from sklearn.model_selection import train_test_split\n",
    "import openpyxl\n",
    "from sklearn.model_selection import train_test_split\n",
    "import speech_recognition as sr\n",
    "\n",
    "app = Flask(__name__,template_folder='D:/FacQA/Answer Analysis')\n",
    "\n",
    "@app.route('/')\n",
    "def index():\n",
    "    return render_template('index.html')\n",
    "\n",
    "@app.route('/run', methods=['POST'])\n",
    "def run_code():\n",
    "    ws= openpyxl.load_workbook('QandAns.xlsx')\n",
    "    sheet1 = ws['Sheet1']\n",
    "    row=sheet1.max_row\n",
    "    results = ''\n",
    "    for i in range (1,row):\n",
    "        os.remove(\"welcome.mp3\")\n",
    "        text=sheet1.cell(row=i,column=1).value\n",
    "        t1 = gtts.gTTS(text)  \n",
    "        t1.save(\"welcome.mp3\")   \n",
    "        playsound(\"welcome.mp3\")\n",
    "        r = sr.Recognizer()\n",
    "        try:\n",
    "            with sr.Microphone() as source2:\n",
    "                r.adjust_for_ambient_noise(source2, duration=0.2)\n",
    "                audio2 = r.listen(source2)\n",
    "                MyText = r.recognize_google(audio2)\n",
    "                MyText = MyText.lower()\n",
    "                results += \"Did you say \" + MyText + \"<br>\"\n",
    "        except sr.RequestError as e:\n",
    "            results += \"Could not request results; {0}\".format(e) + \"<br>\"\n",
    "        except sr.UnknownValueError:\n",
    "            results += \"unknown error occurred\" + \"<br>\"\n",
    "    return results\n",
    "\n",
    "if __name__ == '__main__':\n",
    "    app.run()"
   ]
  },
  {
   "cell_type": "code",
   "execution_count": null,
   "id": "98280690",
   "metadata": {},
   "outputs": [],
   "source": []
  }
 ],
 "metadata": {
  "kernelspec": {
   "display_name": "Python 3 (ipykernel)",
   "language": "python",
   "name": "python3"
  },
  "language_info": {
   "codemirror_mode": {
    "name": "ipython",
    "version": 3
   },
   "file_extension": ".py",
   "mimetype": "text/x-python",
   "name": "python",
   "nbconvert_exporter": "python",
   "pygments_lexer": "ipython3",
   "version": "3.9.13"
  }
 },
 "nbformat": 4,
 "nbformat_minor": 5
}
